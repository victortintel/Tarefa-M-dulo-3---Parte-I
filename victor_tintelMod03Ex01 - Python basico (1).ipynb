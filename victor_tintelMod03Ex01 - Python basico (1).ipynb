{
 "cells": [
  {
   "cell_type": "markdown",
   "metadata": {
    "id": "SEE0vQsW83yB"
   },
   "source": [
    "### 01 - Teste de gravidez\n",
    "Escreva uma célula com controle de fluxos que tem como premissa a existência das seguintes variáveis:\n",
    "\n",
    "- ```sexo``` como ```str``` indicando os valores '**M**' para masculino e '**F**' para feminino  \n",
    "- ```beta_hcg``` que indica a quantidade do beta-HCG no sangue em mUI/mL.\n",
    "\n",
    "A sua tarefa é escrever um código que imprima como resultado \"indivíduo do sexo masculino\" quando sexo = 'M', caso sexo = 'F', se o valor de beta-HCG for maior que 5, retorne \"Positivo\" indicando que a paciente está grávida, e retorne \"Negativo\" caso contrário.\n",
    "\n",
    "Não mexa nos valores da variável ```sexo``` nem em ```beta_hcg```, e escreva um código que funcione para quaisquer valores possíveis de ambos: ```sexo``` = '**M**' ou '**F**' e ```beta_hcg``` assumindo valores inteiros positivos."
   ]
  },
  {
   "cell_type": "code",
   "execution_count": 6,
   "metadata": {
    "id": "cTOc4LG683yE"
   },
   "outputs": [
    {
     "name": "stdout",
     "output_type": "stream",
     "text": [
      "Indivíduo do sexo masculino\n"
     ]
    }
   ],
   "source": [
    "sexo = 'M'\n",
    "beta_hcg = 0\n",
    "\n",
    "# seu código vem abaixo desta linha\n",
    "if sexo == \"M\":\n",
    "    print(\"Indivíduo do sexo masculino\")\n",
    "elif sexo == \"F\" and beta_hcg > 5:\n",
    "    print(\"Positivo.\")\n",
    "else:\n",
    "    print(\"Negativo.\")"
   ]
  },
  {
   "cell_type": "markdown",
   "metadata": {
    "id": "uCoIZDE383yF"
   },
   "source": [
    "### 02 - Renomeando variáveis\n",
    "\n",
    "Vamos ver adiante que uma forma de renomear variáveis de um conjunto de dados é através de dicionários - o dicionário deve conter como chave o nome original, associando a cada chave um único valor (tipo *str*) que contenha o nome novo.\n",
    "\n",
    "A sua tarefa é escrever um dicionário que possa ser utilizado para traduzir as variáveis ```name``` (nome), ```age``` (idade) e ```income``` (renda). Ou seja, esse dicionário deve relacionar as chaves *name, age* e *income* às suas respectivas traduções."
   ]
  },
  {
   "cell_type": "code",
   "execution_count": 8,
   "metadata": {
    "id": "Bh6ijpbu83yG",
    "outputId": "58fbd8da-ed1d-4e05-df85-041c821948f2"
   },
   "outputs": [
    {
     "data": {
      "text/plain": [
       "{'name': 'nome', 'age': 'idade', 'income': 'renda'}"
      ]
     },
     "execution_count": 8,
     "metadata": {},
     "output_type": "execute_result"
    }
   ],
   "source": [
    "dic_renomeacao = {'name': 'nome', 'age': 'idade', 'income': 'renda'}\n",
    "dic_renomeacao"
   ]
  },
  {
   "cell_type": "markdown",
   "metadata": {
    "id": "95zumO5g83yH"
   },
   "source": [
    "### 03 - É divisível?\n",
    "A sua tarefa é escrever um código que indique se um número ```N``` é divisível por um número P. Escreva um programa que faça essa verificação para quaisquer combinações de ```N``` e ```M``` e devolva uma mensagem indicativa no output."
   ]
  },
  {
   "cell_type": "code",
   "execution_count": 13,
   "metadata": {
    "id": "BR2zOhmN83yI"
   },
   "outputs": [
    {
     "name": "stdout",
     "output_type": "stream",
     "text": [
      "42 dividido por 7 É divisível!\n"
     ]
    }
   ],
   "source": [
    "N = 42\n",
    "M = 7\n",
    "\n",
    "#Seu código\n",
    "if N % M == 0:\n",
    " print(f\"{N} dividido por {M} É divisível!\")\n",
    "else:\n",
    "  print(f\"{N} divido por {M} Não é divisível!\")  \n"
   ]
  },
  {
   "cell_type": "markdown",
   "metadata": {
    "id": "0d5Kdrz283yJ"
   },
   "source": [
    "### 04 - Números primos\n",
    "> Um número **N** é primo se e somente se é divisível por 1, -1, por **N** e por -**N**.  \n",
    "\n",
    "Escreva um script que verifica se ```N``` é um número primo, verificando se ```N``` é divisível por todos os números de ```1``` a ```N-1```. Você vai precisar usar alguma ferramenta de *loop* que você aprendeu para isto. No final, devolva uma mensagem no output indicando se o número é primo ou não."
   ]
  },
  {
   "cell_type": "code",
   "execution_count": 25,
   "metadata": {
    "id": "h_lFO-EO83yJ"
   },
   "outputs": [
    {
     "name": "stdout",
     "output_type": "stream",
     "text": [
      "Se aparecer vermelho é porque o número não é divisível por ele, se aparecer azul é porque o número é divisível por ele.\n",
      " \n",
      "\u001b[34m 1 \u001b[31m 2 \u001b[31m 3 \u001b[31m 4 \u001b[31m 5 \u001b[31m 6 \u001b[31m 7 \u001b[31m 8 \u001b[31m 9 \u001b[31m 10 \u001b[31m 11 \u001b[31m 12 \u001b[31m 13 \u001b[31m 14 \u001b[31m 15 \u001b[31m 16 \u001b[31m 17 \u001b[31m 18 \u001b[31m 19 \u001b[31m 20 \u001b[31m 21 \u001b[31m 22 \u001b[31m 23 \u001b[31m 24 \u001b[31m 25 \u001b[31m 26 \u001b[31m 27 \u001b[31m 28 \u001b[31m 29 \u001b[31m 30 \u001b[31m 31 \u001b[31m 32 \u001b[31m 33 \u001b[31m 34 \u001b[31m 35 \u001b[31m 36 \u001b[31m 37 \u001b[31m 38 \u001b[31m 39 \u001b[31m 40 \u001b[31m 41 \u001b[31m 42 \u001b[31m 43 \u001b[31m 44 \u001b[31m 45 \u001b[31m 46 \u001b[34m 47 \n",
      "\n",
      "\u001b[mO número 47 foi divisível 2 vezes\n",
      "\n",
      "Número primo!\n"
     ]
    }
   ],
   "source": [
    "N = 47\n",
    "\n",
    "# seu código abaixo\n",
    "print(\"Se aparecer vermelho é porque o número não é divisível por ele, se aparecer azul é porque o número é divisível por ele.\")\n",
    "print(\" \")\n",
    "saber_numero_de_divisiveis = 0\n",
    "\n",
    "for c in range(1, N + 1):\n",
    "    if N % c == 0:\n",
    "        print(\"\\033[34m\", end=\" \")\n",
    "        saber_numero_de_divisiveis = saber_numero_de_divisiveis + 1\n",
    "    else:\n",
    "        print(\"\\033[31m\", end=\" \")\n",
    "    print(\"{}\".format(c), end=\" \")\n",
    "print(\"\")\n",
    "print(\"\\n\\033[mO número {} foi divisível {} vezes\".format(N, saber_numero_de_divisiveis))\n",
    "print(\"\")\n",
    "if saber_numero_de_divisiveis > 2:\n",
    "    print(\"Número no é primo!\")\n",
    "else:\n",
    "    print(\"Número primo!\")"
   ]
  },
  {
   "cell_type": "markdown",
   "metadata": {
    "id": "zHwDnURO83yK"
   },
   "source": [
    "### 05 - Desafio\n",
    "O algorítmo do exercício anterior não é o mais eficiente. O que você pode fazer para deixá-lo mais eficiente? Ou seja, executar menos comparações, portanto consumir menos tempo.\n",
    "1. Será que precisamos correr o loop até o final sempre?\n",
    "2. Será que precisamos mesmo verificar **todos** os números?\n",
    "3. Será que precisamos ir até N-1?\n",
    "\n",
    "Essas perguntas levam ao tipo de pensamento voltado a deixar um algoritmo mais eficiente. Veja se você consegue melhorar o seu."
   ]
  },
  {
   "cell_type": "markdown",
   "metadata": {},
   "source": [
    "Neste exercício acrescentei o WHILE. portanto, dentro dele, vai continuar a fazer até a variável SABER_NUMERO_DE_DIVISIVEIS for menor que 2. Se ele for maior que 2, vai parar o loop e vai cair no IF. Dessa forma não preciso verificar todos os números, se antes de chegar ao final a variável for maior que dois, quer dizer que o número não é primo e portanto vai cair no BREAK e sair do WHILE. Se for um número muito grande e for primo, ele vai ter que percorrer de qualquer forma todos os números porque vai precisar saber se de fato é primo ou não."
   ]
  },
  {
   "cell_type": "code",
   "execution_count": 28,
   "metadata": {
    "id": "DDdwfZOL83yM"
   },
   "outputs": [
    {
     "name": "stdout",
     "output_type": "stream",
     "text": [
      "Número não é primo!\n"
     ]
    }
   ],
   "source": [
    "N = 98\n",
    "\n",
    "saber_numero_de_divisiveis = 0\n",
    "\n",
    "while saber_numero_de_divisiveis < 2:\n",
    "    for c in range(1, N + 1):\n",
    "        if N % c == 0:\n",
    "\n",
    "            saber_numero_de_divisiveis = saber_numero_de_divisiveis + 1\n",
    "        else:\n",
    "            print(\"\", end=\"\")\n",
    "    if saber_numero_de_divisiveis > 2:\n",
    "        break\n",
    "\n",
    "if saber_numero_de_divisiveis > 2:\n",
    "    print(\"Número não é primo!\")\n",
    "else:\n",
    "    print(\"Número primo!\")\n",
    "\n"
   ]
  },
  {
   "cell_type": "markdown",
   "metadata": {
    "id": "4zhVSQan83yN"
   },
   "source": [
    "### 06 - Peso ideal 1\n",
    "O IMC (índice de massa corpórea) é um indicador de saúde mais bem aceito que o peso. Ele é calculado como:\n",
    "\n",
    "$$ IMC = \\dfrac{peso}{altura^2}$$\n",
    "\n",
    "Segundo a OMS, valores *normais* são entre 18.5 e 24.9.\n",
    "\n",
    "Sua tarefa é encontrar o ponto médio dessa faixa."
   ]
  },
  {
   "cell_type": "markdown",
   "metadata": {},
   "source": [
    "A média é a soma de tudo dividido pelo número de quantidades, portanto temos 18.5 e 24.9, então o ponto médio será a soma de 18.5 + 24.9 dividido por 2. "
   ]
  },
  {
   "cell_type": "code",
   "execution_count": 32,
   "metadata": {
    "id": "3DzxicN983yO",
    "outputId": "6a947e58-88b2-4764-a9ca-717b971adb3d"
   },
   "outputs": [
    {
     "data": {
      "text/plain": [
       "21.7"
      ]
     },
     "execution_count": 32,
     "metadata": {},
     "output_type": "execute_result"
    }
   ],
   "source": [
    "imc_ideal = (18.5 + 24.9)/2\n",
    "\n",
    "imc_ideal"
   ]
  },
  {
   "cell_type": "markdown",
   "metadata": {
    "id": "Z8uBOym483yP"
   },
   "source": [
    "### 07 - Peso ideal 2\n",
    "Recebendo um valor de altura, encontre o peso '*ideal*' dessa pessoa, que fornece o IMC encontrado acima"
   ]
  },
  {
   "cell_type": "markdown",
   "metadata": {},
   "source": [
    "Como já sabemos o peso que é 1.7 e já sabemos a média do IMC que é 21.7, primeiro temos que fazer a altura ao quadrado e depois multiplicar pelo imc_ideal para descobrir o peso ideal. "
   ]
  },
  {
   "cell_type": "code",
   "execution_count": 33,
   "metadata": {
    "id": "rrNwycte83yP",
    "outputId": "0e63b2ff-3743-48c7-a472-b48a450a0867"
   },
   "outputs": [
    {
     "data": {
      "text/plain": [
       "62.712999999999994"
      ]
     },
     "execution_count": 33,
     "metadata": {},
     "output_type": "execute_result"
    }
   ],
   "source": [
    "altura = 1.70\n",
    "\n",
    "# Seu código\n",
    "peso_ideal = 21.7 * (1.7**2)\n",
    "peso_ideal"
   ]
  },
  {
   "cell_type": "markdown",
   "metadata": {
    "id": "zEdM6J_i83yP"
   },
   "source": [
    "### 08 - Peso ideal 3\n",
    "Dada uma lista contendo as alturas de pacientes, crie uma nova lista que contenha o peso '*ideal*' (que fornece o IMC calculado em **Peso ideal 1**) desses pacientes."
   ]
  },
  {
   "cell_type": "code",
   "execution_count": 38,
   "metadata": {
    "id": "KN1mB_My83yQ",
    "outputId": "f070d54d-c156-4546-e3c7-b5bc500059d9",
    "scrolled": true
   },
   "outputs": [
    {
     "name": "stdout",
     "output_type": "stream",
     "text": [
      "\n",
      "\n",
      "\n",
      "\n",
      "A lista contando o peso ideal para cada altura colocada é: \n",
      "\n",
      "[82.51424999999999, 91.19425, 62.712999999999994, 59.07824999999999]\n"
     ]
    }
   ],
   "source": [
    "lista_alturas = [1.95, 2.05, 1.70, 1.65]\n",
    "imc_ideal = 21.7\n",
    "lista_peso_ideal = []\n",
    "\n",
    "# seu código\n",
    "\n",
    "for c in lista_alturas:\n",
    "    peso_ideal = 21.7 * (c**2)\n",
    "    lista_peso_ideal.append(peso_ideal)\n",
    "    print(\"\")\n",
    "print(\"A lista contendo o peso ideal para cada altura colocada é: \")\n",
    "print(\"\")\n",
    "print(lista_peso_ideal)"
   ]
  },
  {
   "cell_type": "markdown",
   "metadata": {
    "id": "8OKAtYQM83yQ"
   },
   "source": [
    "### 09 - Peso ideal 4\n",
    "Dada uma lista de tuplas - cada elemento da lista é uma tupla contendo altura e peso de um paciente - crie uma nova lista com o IMC desses pacientes."
   ]
  },
  {
   "cell_type": "code",
   "execution_count": 40,
   "metadata": {
    "id": "FaXgkjzI83yQ",
    "outputId": "8adc5e59-8a72-42db-db6b-6895587e875e"
   },
   "outputs": [
    {
     "name": "stdout",
     "output_type": "stream",
     "text": [
      "A lista contendo o IMC para cada peso e altura colocados é: \n",
      "\n",
      "[27.777777777777775, 27.548209366391188, 19.188070502453332]\n"
     ]
    }
   ],
   "source": [
    "altura_peso = [(1.80, 90), (1.65, 75), (1.91, 70)]\n",
    "\n",
    "imc = []\n",
    "\n",
    "# seu código\n",
    "\n",
    "for c in altura_peso:\n",
    "    imc_novo = c[1]/(c[0]**2)\n",
    "    imc.append(imc_novo)\n",
    "\n",
    "print(\"A lista contendo o IMC para cada peso e altura colocados é: \")\n",
    "print(\"\")\n",
    "print(imc)"
   ]
  },
  {
   "cell_type": "markdown",
   "metadata": {
    "id": "kZdSJqJq83yR"
   },
   "source": [
    "### 10 - Peso ideal 5\n",
    "Dada uma lista de **listas** - cada elemento da lista é uma **lista** contendo altura e peso de um paciente, adicione mais um elemento à lista de cada paciente contendo o IMC do paciente. Verifique também se é 'baixo', 'normal' ou 'alto' segundo os padrões da OMS em que normal é entre 18.5 e 24.9.\n",
    "\n",
    "Reflexão: por que no problema anterior temos que criar uma nova lista, e não podemos adicionar os dados de cada indivíduo à tupla?"
   ]
  },
  {
   "cell_type": "markdown",
   "metadata": {},
   "source": [
    "No problema anterior temos que criar uma nova lista porque uma tupla é imutável, portanto não podemos adicionar nenhum valor dentro dela."
   ]
  },
  {
   "cell_type": "code",
   "execution_count": 41,
   "metadata": {
    "id": "EwszojP283yR"
   },
   "outputs": [
    {
     "name": "stdout",
     "output_type": "stream",
     "text": [
      "IMC de 27 é alto.\n",
      "IMC de 27 é alto.\n",
      "IMC de 19 normal.\n",
      "Esta é a lista completa com o valor da altura, peso e imc de cada um: [[1.8, 90, 27], [1.65, 75, 27], [1.91, 70, 19]]\n"
     ]
    }
   ],
   "source": [
    "altura_peso = [[1.80, 90], [1.65, 75], [1.91, 70]]\n",
    "\n",
    "# seu código\n",
    "\n",
    "for c in altura_peso:\n",
    "    imc_novo = c[1]/(c[0]**2)\n",
    "    imc_inteiro = int(imc_novo)\n",
    "    c.append(imc_inteiro)\n",
    "    if imc_inteiro < 18.5:\n",
    "        print(f\"IMC de {imc_inteiro} é baixo.\")\n",
    "    elif imc_inteiro > 18.5 and imc_inteiro < 24.9:\n",
    "        print(f\"IMC de {imc_inteiro} normal.\")\n",
    "    else:\n",
    "        print(f\"IMC de {imc_inteiro} é alto.\")\n",
    "\n",
    "print(\"Esta é a lista completa com o valor da altura, peso e imc de cada um: \", end=\"\")\n",
    "print(altura_peso)\n"
   ]
  },
  {
   "cell_type": "code",
   "execution_count": null,
   "metadata": {},
   "outputs": [],
   "source": []
  }
 ],
 "metadata": {
  "colab": {
   "collapsed_sections": [],
   "provenance": []
  },
  "kernelspec": {
   "display_name": "Python 3 (ipykernel)",
   "language": "python",
   "name": "python3"
  },
  "language_info": {
   "codemirror_mode": {
    "name": "ipython",
    "version": 3
   },
   "file_extension": ".py",
   "mimetype": "text/x-python",
   "name": "python",
   "nbconvert_exporter": "python",
   "pygments_lexer": "ipython3",
   "version": "3.11.5"
  }
 },
 "nbformat": 4,
 "nbformat_minor": 1
}
